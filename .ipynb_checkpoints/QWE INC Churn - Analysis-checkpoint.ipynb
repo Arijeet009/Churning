{
 "cells": [
  {
   "cell_type": "markdown",
   "metadata": {},
   "source": [
    "QWE is a telecom company suffering from the churning of their members. So far, the churning rate is about 5% and the company is interested in building a model to predict potential churners.\n",
    "\n",
    "This notebook contains the analysis of data leading to the predictive model. The work consists in data cleaning, deriving new features, exploratory data analysis and hypothesis testing, building of the predictive model and recommendations. The data provided was structured and missing data were previously imputed with 0"
   ]
  },
  {
   "cell_type": "code",
   "execution_count": 3,
   "metadata": {
    "collapsed": false
   },
   "outputs": [],
   "source": [
    "import pandas as pd\n",
    "import numpy as np\n",
    "import matplotlib.pyplot as plt\n",
    "from scipy.stats import ttest_ind, chisquare\n",
    "from random import shuffle\n",
    "\n",
    "from pprint import pprint\n",
    "from tabulate import tabulate\n",
    "import pickle\n",
    "\n",
    "from sklearn.decomposition import PCA\n",
    "from sklearn.model_selection import train_test_split\n",
    "from sklearn.metrics import confusion_matrix, accuracy_score, roc_auc_score, roc_curve\n",
    "from sklearn.model_selection import GridSearchCV\n",
    "from sklearn.model_selection import cross_val_score\n",
    "from sklearn.linear_model import LogisticRegression\n",
    "from xgboost import XGBClassifier\n",
    "\n",
    "\n",
    "## functions\n",
    "def drop_outliers(ps, method=1,center=\"mean\",variable=None):\n",
    "\t\"\"\"\n",
    "\tThis function removes all outliers. These points are replaced by the mean or median\n",
    "\tmethod 1: An outlier is defined as a point lying below Q1 - 1.5IQR and above Q3 + 1.5IQR\n",
    "\tQ1: first quartile, Q2: median, Q3: third quartile, IQR: Q3 - Q1.\n",
    "\tmethod 2: an outlier is any point located 2.5 standard devs, far from the center(mean or median)\n",
    "\tNote: This doesn't work on categorical data\n",
    "\tinput: \n",
    "\t\tps (pandas.dataframe or pandas.series): array of numbers to treated\n",
    "\t\tcenter (str): default is mean. options: mean, median\n",
    "\toutput: pandas.series\n",
    "\t\"\"\"\n",
    "\ts = ps.describe().T\n",
    "\tQ1,median,Q3,mean,std = s[\"25%\"],s[\"50%\"],s[\"75%\"],s['mean'], s['std']\n",
    "\tif method == 1:\n",
    "\t\tIQR = Q3 - Q1\n",
    "\t\tif IQR == 0:\n",
    "\t\t\tprint \"IQR == 0. \",variable, \"needs a closer look\"\n",
    "\t\t\treturn ps\n",
    "\t\telse:\n",
    "\t\t\tix = ps[(ps < (Q1 - 1.5 * IQR)) | (ps > (Q3 + 1.5 * IQR))].index.tolist()\n",
    "\t\t\treturn ps\n",
    "\telif method == 2:\n",
    "\t\tif center == \"mean\":\n",
    "\t\t\tix = ps[abs(ps - mean) > 2.5 * std].index.tolist()\n",
    "\t\t\tps.loc[ix] = mean\n",
    "\t\t\treturn ps\n",
    "\t\telif center == \"median\":\n",
    "\t\t\tix = ps[abs(ps - median) > 2.5 * std].index.tolist()\n",
    "\t\t\tps.loc[ix] = median\n",
    "\t\t\treturn ps\n",
    "\t\telse:\n",
    "\t\t\tprint \"unknonw center\"\n",
    "\t\t\treturn ps\n",
    "\telse:\n",
    "\t\tprint \"unknonw method\"\n",
    "\t\treturn ps\n",
    "    \n",
    "def clean_data(data):\n",
    "    \"\"\"\n",
    "    data (pandas.dataframe): raw dataframe to be cleaned\n",
    "    This method will reformat IDs into integers and will rename original variables\n",
    "    It will also drop outliers and transform some variables to categorical\n",
    "    \n",
    "    inputs:\n",
    "        data (pandas.dataframe)\n",
    "    return:\n",
    "        data (pandas.dataframe)\n",
    "    \"\"\"\n",
    "    # ID to integers\n",
    "    data['ID'] = range(data.shape[0])\n",
    "\n",
    "    # rename columns\n",
    "    data.rename(columns = {'Customer Age (in months)':'Longevity - Months',\n",
    "        'Churn (1 = Yes, 0 = No)':'Churn',\n",
    "        'CHI Score Month 0':'Happiness Index - Current Month',\n",
    "        'CHI Score 0-1':'Happiness Index - Change',\n",
    "        'Support Cases Month 0':'Support Cases - Current Month',\n",
    "        'Support Cases 0-1':'Support Cases - Change',\n",
    "        'SP Month 0':'Support Priority - Current Month',\n",
    "        'SP 0-1':'Support Priority - Change',\n",
    "\t\t'Logins 0-1':'Logins - Change',\n",
    "\t\t'Blog Articles 0-1':'Blogs - Change',\n",
    "\t\t'Views 0-1':'Views - Change',\n",
    "\t\t' Days Since Last Login 0-1':'Days Since Last Login - Change'},inplace = True)\n",
    "    # drop outliers\n",
    "    centers_dict = {'Support Priority - Change': 'skip', #to be transformed into categorical'Views - Change': 'mean', \n",
    "                'Longevity - Months': 'median', \n",
    "                'Blogs - Change': 'mean', \n",
    "                'Support Cases - Change': 'skip',#to be transformed into categorical. Very unbalanced \n",
    "                'Logins - Change': 'mean', \n",
    "                'Days Since Last Login - Change': 'mean', \n",
    "                'Support Priority - Current Month': 'skip', #to be transformed into categorical\n",
    "                'Happiness Index - Current Month': 'median', \n",
    "                'Happiness Index - Change': 'mean', \n",
    "                'Churn': 'skip', #target variable\n",
    "                'ID': 'skip', #identifier\n",
    "                'Support Cases - Current Month': 'skip',#to be transformed into categorical. Very unbalanced\n",
    "                'Views - Change': 'mean'}\n",
    "    for k,v in centers_dict.iteritems():\n",
    "        if v != 'skip':\n",
    "            data[k] = drop_outliers(data[k].copy(), method=2, center=v, variable=k)\n",
    "            \n",
    "    # support priority variables to categorical\n",
    "    data['Support Priority - Change'] = ~(data['Support Priority - Change'] == 0)*1\n",
    "    data['Support Priority - Current Month'] = ~(data['Support Priority - Current Month'] == 0)*1\n",
    "    data['Support Cases - Change'] = ~(data['Support Cases - Change'] == 0)*1\n",
    "    data['Support Cases - Current Month'] = ~(data['Support Cases - Current Month'] == 0)*1\n",
    "\n",
    "    return data\n",
    "\n",
    "\n",
    "def standardize(ps,center=\"mean\"):\n",
    "    \"\"\"\n",
    "    This method standardize data to their center and a unity variance\n",
    "    ps (pandas.series): data to be standardize\n",
    "    center (str): central point {\"mean\",\"median\"}\n",
    "    \"\"\"\n",
    "    if center == \"mean\":\n",
    "        return (ps - ps.mean()) / ps.std()\n",
    "    if center == \"median\":\n",
    "        return (ps - ps.median()[0]) / ps.std()\n",
    "    else:\n",
    "        print \"unknown central point\"\n",
    "        return ps\n",
    "\n",
    "def test_stat(df,ivar,tvar,equal_var=True,ddof=0):\n",
    "\t\"\"\"\n",
    "\tThis function calculate statistical test to check if means are the same in groups of ivar\n",
    "\tsplit by tvar\n",
    "\tinputs:\n",
    "\t\tdf (pandas.dataframe): data frame of interest\n",
    "\t\tivar (str): indipendent variable\n",
    "\t\ttvar (str): target variable\n",
    "\t\"\"\"\n",
    "\tivar_uniques = df[ivar].unique().shape[0]\n",
    "\ttvar_uniques = df[tvar].unique().shape[0]\n",
    "\tif tvar_uniques < 2:\n",
    "\t\tprint \"Only one sample can be generated\"\n",
    "\t\treturn None\n",
    "\tif ivar_uniques <= 10: #This the case of a categorical independant variable. We use chisquare\n",
    "\t\tss = pd.crosstab(df[ivar],df[tvar])\n",
    "\t\tss = (ss.T/ss.sum(axis=1)).T\n",
    "\t\ts0,s1 = ss[0].values,ss[1].values\n",
    "\n",
    "\t\treturn chisquare(s1,s0,ddof=ddof)\n",
    "\n",
    "\tif ivar_uniques >10: #Consider using ttest\n",
    "\t\ts0 = df[ivar][df[tvar] == 0]\n",
    "\t\ts1 = df[ivar][df[tvar] == 1]\n",
    "\t\treturn ttest_ind(s1,s0,equal_var=equal_var)\n",
    "def engineer_features(df):\n",
    "    \"\"\"\n",
    "    this function engineer new features for the input dataset\n",
    "    \"\"\"\n",
    "    \n",
    "    #Since happiness is something that is gained progressively with a customer age and satisfaction, \n",
    "    #it is wise to have thise metric. We derive it as the ratio of Happiness Index - Current Month to Longevity.\n",
    "    df['Happiness Index - Monthly'] = df['Happiness Index - Current Month'] / df['Longevity - Months']\n",
    "    df['Happiness Index - Monthly'].fillna(df['Happiness Index - Monthly'].mean(),inplace=True)\n",
    "    \n",
    "    #Since the barplot of churners showed peaks at longevity 6,12,18 and 24, let's create new features\n",
    "    for n in [6,12,18,24]:\n",
    "        df['Longevity - Modulo '+str(n)] = df['Longevity - Months'].mod(n)\n",
    "        \n",
    "    df['Logins - Change'] = standardize(df['Logins - Change'].copy())\n",
    "    df['Blogs - Change'] = standardize(df['Blogs - Change'].copy())\n",
    "    df['Views - Change'] = standardize(df['Views - Change'].copy())\n",
    "    df['Customer Activity - Change'] = df[['Logins - Change','Blogs - Change','Views - Change']].mean(axis=1)\n",
    "    \n",
    "    return df\n",
    "def biplot(score,coeff,pcax,pcay,labels=None,nm=None):\n",
    "    \"\"\"\n",
    "    This function generate a scatter plot to visualize important features resulting from a principle component analysis\n",
    "    Given dataset X, the principle components analysis generates loadings (coefficients) L and scores (new features\n",
    "    in the new basis) C such that X = L*C\n",
    "    inputs:\n",
    "        score (matrix): components in the new basis (C)\n",
    "        coeff (matrix): also called loadings (L)\n",
    "        pcax (int): one of the principle components to plot\n",
    "        pcay (int): another principle to plot\n",
    "    \"\"\"\n",
    "    pca1=pcax-1\n",
    "    pca2=pcay-1\n",
    "    xs = score[:,pca1]\n",
    "    ys = score[:,pca2]\n",
    "    n=score.shape[1]\n",
    "    if nm == None:\n",
    "        nm = n\n",
    "    #construct scales to constrain data between -1 and 1\n",
    "    scalex = 1.0/(xs.max()- xs.min())\n",
    "    scaley = 1.0/(ys.max()- ys.min())\n",
    "    \n",
    "    #scatter data points in the new basis span by pca1 and pca2\n",
    "    plt.scatter(xs*scalex,ys*scaley, marker='.',edgecolor='none')\n",
    "    vectors = []\n",
    "    \n",
    "    #overlay transforms of original features in the new basis\n",
    "    for i in range(n):\n",
    "        #calculate length of vectors in new basis\n",
    "        vectors.append((labels[i],np.sqrt(coeff[i,pca1]**2 + coeff[i,pca2]**2)))\n",
    "        #plot arrow vectors\n",
    "        plt.arrow(0, 0, coeff[i,pca1], coeff[i,pca2],color='g',alpha=0.5) \n",
    "        #add labels\n",
    "        if labels is None:\n",
    "            plt.text(coeff[i,pca1]* 1.15, coeff[i,pca2] * 1.15, \"Var\"+str(i+1), color='k', ha='center', va='center')\n",
    "        else:\n",
    "            plt.text(coeff[i,pca1]* 1.15, coeff[i,pca2] * 1.15, labels[i], color='k', ha='center', va='center')\n",
    "    plt.xlim(-1,1)\n",
    "    plt.ylim(-1,1)\n",
    "    plt.xlabel(\"PC{}\".format(pcax))\n",
    "    plt.ylabel(\"PC{}\".format(pcay))\n",
    "    plt.grid()\n",
    "    plt.show()\n",
    "    #print \"Feature import (PCA)\"\n",
    "    #print \"--------------------\"\n",
    "    vectors = sorted(vectors,key=lambda x:x[1],reverse=False)\n",
    "    \n",
    "    plt.barh(range(len(vectors)),map(lambda x:x[1],vectors),edgecolor='none')\n",
    "    plt.yticks(np.arange(len(vectors))+0.4,map(lambda x:x[0],vectors))\n",
    "    plt.xlabel('Feature importance')\n",
    "    plt.grid()\n",
    "    plt.show()\n",
    "    #pprint(vectors)\n",
    "    return vectors\n",
    "\n",
    "def modelfit(alg, xtr, ytr, performCV=True, printFeatureImportance=True, cv_folds=5,title=None):\n",
    "    \"\"\"\n",
    "    This function perform cross validation (CV) of a model over a training dataset.\n",
    "    It will print results of the cross validation: mean score, standard deviation, min and max score.\n",
    "    inputs:\n",
    "        alg: sklearn algorithm to be trained and validated\n",
    "        xtr: training dataset\n",
    "        ytr: target classes for the training dataset\n",
    "        performCV (bool): performs the CV is true\n",
    "        printFeatureImportance (bool): print the importance of features. It only works for selectedalogorithms.\n",
    "        cv_folds (int): subset fold of cross validation\n",
    "        title (str): title to label generated results\n",
    "    return (dict): dictionary of the trained and validated model and validation score\n",
    "    \"\"\"\n",
    "    print title\n",
    "    print \"-------------------------------\"\n",
    "    #Fit the algorithm on the data\n",
    "    alg.fit(xtr, ytr)\n",
    "    #Predict training set:\n",
    "    dtrain_predictions = alg.predict(xtr)\n",
    "    dtrain_predprob = alg.predict_proba(xtr)[:,1]\n",
    "    #Perform cross-validation:\n",
    "    if performCV:\n",
    "        cv_score = cross_val_score(alg, xtr, ytr, cv=cv_folds, scoring='roc_auc')\n",
    "\n",
    "\t#Print model report:\n",
    "\t#print \"\\nModel Report\"\n",
    "\tprint \"Accuracy: %.4g\" % accuracy_score(ytr.values, dtrain_predictions)\n",
    "\tprint \"AUC Score (Train): %f\" % roc_auc_score(ytr, dtrain_predprob)\n",
    "\t\n",
    "\tif performCV:\n",
    "\t\tprint \"CV Score: Mean = %.4g | Std = %.4g | Min = %.4g | Max = %.4g\" % \\\n",
    "\t\t(np.mean(cv_score),np.std(cv_score),np.min(cv_score),np.max(cv_score))\n",
    "\t\t\n",
    "\t#Print Feature Importance:\n",
    "\tif printFeatureImportance:\n",
    "\t\tfeat_imp = pd.Series(alg.feature_importances_, xtr.columns.tolist()).sort_values(ascending=False)\n",
    "\t\tfeat_imp.plot(kind='bar', title='Feature Importances')\n",
    "\t\tplt.ylabel('Feature Importance Score')\n",
    "\t\tplt.show()\n",
    "\treturn {'model':alg,'cv_score':cv_score}\n",
    "\n",
    "def get_labels(labels_name):\n",
    "    \"\"\"\n",
    "    this returns all labels used in analysis and predictions\n",
    "    \"\"\"\n",
    "    labels = {\n",
    "        \"labels_num\":['Blogs - Change', 'Customer Activity - Change', 'Days Since Last Login - Change', \n",
    "                      'Happiness Index - Change', 'Happiness Index - Current Month', 'Happiness Index - Monthly', \n",
    "                      'Logins - Change', 'Longevity - Modulo 12', 'Longevity - Modulo 18', 'Longevity - Modulo 24', \n",
    "                      'Longevity - Months', 'Views - Change'],\n",
    "        \"labels_cat\":['Longevity - Modulo 6', 'Support Cases - Change', 'Support Cases - Current Month', 'Support Priority - Change',\n",
    "                      'Support Priority - Current Month'],\n",
    "        \"target\":\"Churn\",\n",
    "        \"labels_pca\":['Happiness Index - Monthly', 'Longevity - Modulo 12', 'Happiness Index - Change', \n",
    "                      'Blogs - Change', 'Happiness Index - Current Month', 'Longevity - Modulo 24', \n",
    "                      'Customer Activity - Change', 'Logins - Change', 'Longevity - Modulo 18', \n",
    "                      'Days Since Last Login - Change']\n",
    "    }\n",
    "    return labels[labels_name]\n",
    "## ========================= stratification sampling class ====================== ##   \n",
    "class StratSampler():\n",
    "\tdef __init__(self,pos,neg,posRate):\n",
    "\t\t\"\"\"\n",
    "\t\tThis is a class for stratification sampling\n",
    "\t\tinputs:\n",
    "\t\t\tpos (list of int): list of indices of positive cases in the dataset\n",
    "\t\t\tneg (list of int): list of indices of negative cases in the dataset\n",
    "\t\t\tposRate (int): new sought positive rate. Note: posRate > initial rate\n",
    "\t\toutputs:\n",
    "\t\t\tsampledIds (list of int): ordered list of sampled indices\n",
    "\t\t\"\"\"\n",
    "\t\tself.pos = pos\n",
    "\t\tself.neg = neg\n",
    "\t\tself.posRate = posRate\n",
    "\n",
    "\t\tnchurners=len(self.pos)\n",
    "\t\tncustomers = nchurners+len(self.neg)\n",
    "\t\tncneeded = (100/self.posRate - 1)*nchurners\n",
    "\t\tself.ntotal = ncneeded+nchurners\n",
    "\t\tprint \"total number of customers:\", ncustomers\n",
    "\t\tprint \"number of actual churners:\", nchurners\n",
    "\t\tprint \"total number of non-churners needed to obtain {0}% of churners: {1}\".format(self.posRate,ncneeded)\n",
    "\t\tprint \"the new sample will be made of {0}. That is {1}% of initial dataset\".format(self.ntotal,100*self.ntotal/ncustomers)\n",
    "\t\tfor i in range(100): #randomly reshafle the list of indices\n",
    "\t\t\tshuffle(self.pos)\n",
    "\t\t\tshuffle(self.neg)\n",
    "\t\t\n",
    "\t\tself.posId = self.pos_gen()\n",
    "\t\tself.negId = self.neg_gen()\n",
    "\t\tself.sampledIds = self.get_sampled_ids()\n",
    "\tdef pos_gen(self): #create a chain (generator) object for positive indices\n",
    "\t\tfor i in self.pos:\n",
    "\t\t\tyield i\n",
    "\tdef neg_gen(self): #create a chain (generator) object for positive indices\n",
    "\t\tfor i in self.neg:\n",
    "\t\t\tyield i\n",
    "\t\n",
    "\tdef get_sampled_ids(self):\n",
    "\t\t\"\"\"\n",
    "\t\tstart a loop from 0 to total size of the new sample\n",
    "\t\t\"\"\"\n",
    "\t\tseed = 123\n",
    "\t\t#initiate two lists, to save randomly picked positive and negative cases respectively\n",
    "\t\tpositiveIds = []\n",
    "\t\tnegativeIds = []\n",
    "\t\ti = 0\n",
    "\t\tprint \"==> resampling ...  \",\n",
    "\t\twhile len(positiveIds)+len(negativeIds)<self.ntotal:\n",
    "\t\t\t# start a loop from 0 to total size of the new sampe\n",
    "\t\t\t# if it catches a number divisable by the sought ratio, update the list of positive cases ids\n",
    "\t\t\t# otherwise keep update the list of negative cases ids\n",
    "\t\t\ttry:\n",
    "\t\t\t\tif i%int(100 / self.posRate) == 0: \n",
    "\t\t\t\t\tpositiveIds.append(self.posId.next())\n",
    "\t\t\t\telse:\n",
    "\t\t\t\t\tnegativeIds.append(self.negId.next())\n",
    "\t\t\texcept:\n",
    "\t\t\t\tprint \"Enter posRate higher than the initial rate\"\n",
    "\t\t\t\tbreak\n",
    "\t\t\ti+=1\n",
    "\t\tprint \"Done sampling\"\n",
    "\t\tprint \"positive:\", len(positiveIds)\n",
    "\t\tprint \"negative:\", len(negativeIds)\n",
    "\t\tprint \"final size:\", len(positiveIds)+len(negativeIds)\n",
    "\t\t#return sorted list of the two list of ids combined\n",
    "\t\treturn sorted(positiveIds+negativeIds)"
   ]
  },
  {
   "cell_type": "markdown",
   "metadata": {},
   "source": [
    "# Load and clean data\n",
    "\n",
    "In this section, we load the data. Next, we validate the dataset looking for missing values, invalid data types, ..."
   ]
  },
  {
   "cell_type": "code",
   "execution_count": 4,
   "metadata": {
    "collapsed": false
   },
   "outputs": [
    {
     "name": "stdout",
     "output_type": "stream",
     "text": [
      "<class 'pandas.core.frame.DataFrame'>\n",
      "RangeIndex: 6347 entries, 0 to 6346\n",
      "Data columns (total 13 columns):\n",
      "ID                                  6347 non-null int64\n",
      "Longevity - Months                  6347 non-null float64\n",
      "Churn                               6347 non-null int64\n",
      "Happiness Index - Current Month     6347 non-null float64\n",
      "Happiness Index - Change            6347 non-null float64\n",
      "Support Cases - Current Month       6347 non-null int64\n",
      "Support Cases - Change              6347 non-null int64\n",
      "Support Priority - Current Month    6347 non-null int64\n",
      "Support Priority - Change           6347 non-null int64\n",
      "Logins - Change                     6347 non-null float64\n",
      "Blogs - Change                      6347 non-null float64\n",
      "Views - Change                      6347 non-null float64\n",
      "Days Since Last Login - Change      6347 non-null float64\n",
      "dtypes: float64(7), int64(6)\n",
      "memory usage: 644.7 KB\n",
      "None\n"
     ]
    }
   ],
   "source": [
    "data = pd.read_csv('../QWE_INC/QWE Churn Data.csv')\n",
    "backup = data.copy()\n",
    "\n",
    "data = clean_data(data)\n",
    "data.to_csv('QWE_Data.csv',index=False)\n",
    "data = pd.read_csv('QWE_Data.csv')\n",
    "print data.info()\n",
    "#data.to_csv('tmp.csv',index=False)"
   ]
  },
  {
   "cell_type": "markdown",
   "metadata": {},
   "source": [
    "**Remove outliers**\n",
    "\n",
    "I consider an outlier to be any point located at 2.5 standard deviation far from the center of data points. The center will be the mean if the distribution of the data is symmetric and the median otherwise."
   ]
  },
  {
   "cell_type": "markdown",
   "metadata": {},
   "source": [
    "**Convert some numeric data to categorical data**\n",
    "Let's now convert support priority variables that we didn't clean off outliers into categorical. The initial visualization showed that about 90% of the data is zero. I opt to generate two categories 0 (zero support priority) and 1 (otherwise)"
   ]
  },
  {
   "cell_type": "markdown",
   "metadata": {},
   "source": [
    "\n",
    "# Engineering new features"
   ]
  },
  {
   "cell_type": "code",
   "execution_count": 5,
   "metadata": {
    "collapsed": true
   },
   "outputs": [],
   "source": []
  },
  {
   "cell_type": "markdown",
   "metadata": {},
   "source": [
    "**New feature -> Happiness Index - Monthly** \n",
    "\n",
    "Since happiness is something that is gained progressively with a customer age and satisfaction, it is wise to have thise metric. We derive it as the ratio of Happiness Index - Current Month to Longevity.\n",
    "\n",
    "**New features -> Longevity modulos **\n",
    "\n",
    "The barplot of churners shows peaks at longevity 6,12,18 and 24\n",
    "<img src='data/longevity_churners.png'>\n",
    "\n",
    "Therefore, we alse create new features as longevity modulo 6, 12, 18 and 24\n",
    "\n",
    "**New feature -> Customer Activity** \n",
    "\n",
    "The activity of customers is expressed with any of number of logins, number of blogs read or number of page views. Assuming that these 3 variables contribute equally to the activity of a customer, we can standardize and combine them into one variable that we call \"Customer Activity\n"
   ]
  },
  {
   "cell_type": "code",
   "execution_count": 6,
   "metadata": {
    "collapsed": true
   },
   "outputs": [],
   "source": [
    "data = engineer_features(data)"
   ]
  },
  {
   "cell_type": "markdown",
   "metadata": {},
   "source": [
    "# Stratified Sampling"
   ]
  },
  {
   "cell_type": "markdown",
   "metadata": {},
   "source": [
    "Before we move on with further analysis, let's split training and validation datasets. We shall also see that there is only 5% of positive churners. This is a case of unbalanced dataset. Therefore, we will use a stratified sampling to boost the positive rate to 20%"
   ]
  },
  {
   "cell_type": "code",
   "execution_count": 7,
   "metadata": {
    "collapsed": false
   },
   "outputs": [],
   "source": [
    "labels = ['ID','Blogs - Change', 'Customer Activity - Change', 'Days Since Last Login - Change', \n",
    "          'Happiness Index - Change', 'Happiness Index - Current Month', 'Happiness Index - Monthly', \n",
    "          'Logins - Change', 'Longevity - Modulo 12', 'Longevity - Modulo 18', 'Longevity - Modulo 24', \n",
    "          'Longevity - Modulo 6', 'Longevity - Months', 'Support Cases - Change', 'Support Cases - Current Month', \n",
    "          'Support Priority - Change', 'Support Priority - Current Month', 'Views - Change']\n",
    "labels_num = sorted(['Longevity - Modulo 12', 'Longevity - Months', 'Blogs - Change', 'Days Since Last Login - Change', \n",
    "              'Longevity - Modulo 18', 'Logins - Change', 'Longevity - Modulo 24', \n",
    "              'Happiness Index - Monthly', 'Happiness Index - Current Month', 'Views - Change', \n",
    "              'Customer Activity - Change', 'Happiness Index - Change'])\n",
    "labels_cat = sorted(['Support Priority - Change', 'Support Priority - Current Month', \n",
    "              'Support Cases - Change', 'Support Cases - Current Month',\n",
    "              'Longevity - Modulo 6'])\n",
    "labels1 = labels[1:]\n",
    "target = 'Churn'"
   ]
  },
  {
   "cell_type": "code",
   "execution_count": 8,
   "metadata": {
    "collapsed": false
   },
   "outputs": [
    {
     "name": "stdout",
     "output_type": "stream",
     "text": [
      "0    0.95\n",
      "1    0.05\n",
      "Name: Churn, dtype: float64\n"
     ]
    }
   ],
   "source": [
    "from sklearn.model_selection import train_test_split\n",
    "_Xtrain,_Xvalid,_Ytrain,_Yvalid = train_test_split(data[labels],data[target],test_size=1/4.,random_state=123)\n",
    "_train_ids = _Xtrain.ID.tolist()\n",
    "_valid_ids = _Xvalid.ID.tolist()\n",
    "\n",
    "print _Ytrain.value_counts(normalize=True).round(2)"
   ]
  },
  {
   "cell_type": "code",
   "execution_count": 9,
   "metadata": {
    "collapsed": false
   },
   "outputs": [
    {
     "name": "stdout",
     "output_type": "stream",
     "text": [
      "total number of customers: 4760\n",
      "number of actual churners: 243\n",
      "total number of non-churners needed to obtain 20% of churners: 972\n",
      "the new sample will be made of 1215. That is 25% of initial dataset\n",
      "==> resampling ...   Done sampling\n",
      "positive: 243\n",
      "negative: 972\n",
      "final size: 1215\n"
     ]
    }
   ],
   "source": [
    "positive_ids = _Xtrain[_Ytrain == 1]['ID'].tolist()\n",
    "negative_ids = _Xtrain[_Ytrain == 0]['ID'].tolist()\n",
    "sampler = StratSampler(pos=positive_ids, neg=negative_ids, posRate=20)\n",
    "\n",
    "sample = _Xtrain.loc[sampler.sampledIds]\n",
    "sample[target] = _Ytrain.loc[sampler.sampledIds]\n",
    "sample.to_csv('qwe_sample.csv',index=False)"
   ]
  },
  {
   "cell_type": "code",
   "execution_count": 10,
   "metadata": {
    "collapsed": false
   },
   "outputs": [
    {
     "data": {
      "image/png": "[encoded data removed]",
      "text/plain": [
       "<matplotlib.figure.Figure at 0x109c12750>"
      ]
     },
     "metadata": {},
     "output_type": "display_data"
    }
   ],
   "source": [
    "df1 = (100*data['Churn'].value_counts(normalize=True)).round()\n",
    "df2 = (100*sample['Churn'].value_counts(normalize=True)).round()\n",
    "plt.bar(df1.index,df1.values,width=0.45,color='#4169e1',edgecolor='none')\n",
    "plt.bar(df2.index+0.45,df2.values,width=0.45,color='#ffa500',edgecolor='none')\n",
    "plt.xticks([0.45,1.45],[0,1])\n",
    "plt.xlabel(\"Churn\")\n",
    "plt.ylabel(\"rate (%)\")\n",
    "plt.legend(['Original Data','Sampled Data'])\n",
    "plt.show()\n"
   ]
  },
  {
   "cell_type": "markdown",
   "metadata": {},
   "source": [
    "# Exploratory Data Analysis\n",
    "\n",
    "In this section, we will visually explore the data. Each variable will be compared to the target variable. We will use statistical tests to find how averages of independent variables are different in the two groups of churners and non-churners at 95% level of confidence. t-test will be used for numerical continuous variable and chisquare will be used for categorical variables.\n",
    "\n",
    "The second part of this section, we use the principle component analysis to determing import variables. This is done as a validation of our statistical analysis\n"
   ]
  },
  {
   "cell_type": "markdown",
   "metadata": {},
   "source": [
    "### Exploration of variables\n",
    "#### Customers with age closer to 12 months are more likely to churn"
   ]
  },
  {
   "cell_type": "code",
   "execution_count": 11,
   "metadata": {
    "collapsed": false
   },
   "outputs": [
    {
     "name": "stdout",
     "output_type": "stream",
     "text": [
      "Longevity - Months Ttest_indResult(statistic=3.8636057408160154, pvalue=0.00012821254257113445)\n",
      "Longevity - Modulo 6 Power_divergenceResult(statistic=2.8317746150914802, pvalue=0.72590191568099049)\n",
      "Longevity - Modulo 12 Ttest_indResult(statistic=-3.7080462521898427, pvalue=0.00024065693434607843)\n",
      "Longevity - Modulo 18 Ttest_indResult(statistic=6.7575160212700078, pvalue=5.2545252749935612e-11)\n",
      "Longevity - Modulo 24 Ttest_indResult(statistic=4.4437679072589296, pvalue=1.1331027939944482e-05)\n"
     ]
    }
   ],
   "source": [
    "for col in ['Longevity - Months','Longevity - Modulo 6','Longevity - Modulo 12',\n",
    "            'Longevity - Modulo 18','Longevity - Modulo 24']:\n",
    "    print col,test_stat(sample,col,'Churn',equal_var=False)"
   ]
  },
  {
   "cell_type": "markdown",
   "metadata": {},
   "source": [
    "<img src=\"data/longevity-barplot.png\">\n",
    "<img src=\"data/longevity-boxplot.png\">\n",
    "With p-values less than 0.05, the statistical hypothesis test tells us that customers with age close to 12 monthers and older are more likely to churn at a 95% confidence level.\n",
    "\n",
    "Similarly, we find the same significant difference in averages of longetivity derived varaibles, that is longetivity modulo 12, 18 and 24.\n",
    "\n",
    "<img src=\"data/longevity12-boxplot.png\">\n",
    "<img src=\"data/longevity18-boxplot.png\">\n",
    "<img src=\"data/longevity24-boxplot.png\">\n"
   ]
  },
  {
   "cell_type": "markdown",
   "metadata": {},
   "source": [
    "#### Happier customers are less likely to churn"
   ]
  },
  {
   "cell_type": "code",
   "execution_count": 12,
   "metadata": {
    "collapsed": false
   },
   "outputs": [
    {
     "name": "stdout",
     "output_type": "stream",
     "text": [
      "Happiness Index - Current Month : Ttest_indResult(statistic=-5.3996770080139482, pvalue=8.0260878434484691e-08)\n",
      "Happiness Index - Change : Ttest_indResult(statistic=-2.4409584663578516, pvalue=0.014790576525206389)\n",
      "Happiness Index - Monthly : Ttest_indResult(statistic=-5.4646669650977344, pvalue=5.6241189118703731e-08)\n"
     ]
    }
   ],
   "source": [
    "for col in ['Happiness Index - Current Month', \n",
    "            'Happiness Index - Change', 'Happiness Index - Monthly']:\n",
    "    print col,\":\", test_stat(sample,col,'Churn',True,0)"
   ]
  },
  {
   "cell_type": "markdown",
   "metadata": {},
   "source": [
    "<img src=\"data/happinessIndex_CM-boxplot.png\">\n",
    "<img src=\"data/happinessIndex_Change-boxplot.png\">\n",
    "<img src=\"data/happinessIndex_Monthly-boxplot.png\">"
   ]
  },
  {
   "cell_type": "markdown",
   "metadata": {},
   "source": [
    "Customers with higher current happiness index are less and less likely to churn. The t-test result in a pvalue smaller than 0.05 indicating that we have enough evidence to say that the average happiness index of non churners is higher than the one for churners. Similarly, we find same behaviour for change in happiness Index"
   ]
  },
  {
   "cell_type": "markdown",
   "metadata": {},
   "source": [
    "#### Customers with  a constant activity are less likely to churn\n",
    "\n",
    "The statistical test show that the average change in activity is zero in the group of non-churners compared to churners whose average is negative. This suggest that inactive customers are potential churnes as expected. This change in activity was measured as a combination of change in number of blogs, change in number of logins and change in number of views.\n",
    "\n",
    "However, we fail to find any significant difference between average of change in number of blogs and change in number of views between the two groups"
   ]
  },
  {
   "cell_type": "code",
   "execution_count": 13,
   "metadata": {
    "collapsed": false
   },
   "outputs": [
    {
     "name": "stdout",
     "output_type": "stream",
     "text": [
      "Mean Customer Activity - Change:\n",
      "\tNon-churners: 0.00739396078998\n",
      "\tChurners: -0.129089911715\n",
      "Customer Activity - Change Ttest_indResult(statistic=-3.1994126835867926, pvalue=0.0014974084017979913)\n",
      "\n",
      "\n",
      "Logins - Change Ttest_indResult(statistic=-3.2133650743348157, pvalue=0.0014154488696597168)\n",
      "Blogs - Change Ttest_indResult(statistic=-1.1917387860588311, pvalue=0.23403969444831776)\n",
      "Views - Change Ttest_indResult(statistic=-1.5221528108328219, pvalue=0.12895940106710718)\n"
     ]
    }
   ],
   "source": [
    "print \"Mean Customer Activity - Change:\"\n",
    "print \"\\tNon-churners:\",sample['Customer Activity - Change'][sample['Churn'] == 0].mean()\n",
    "print \"\\tChurners:\",sample['Customer Activity - Change'][sample['Churn'] == 1].mean()\n",
    "print 'Customer Activity - Change',test_stat(sample,'Customer Activity - Change','Churn',False,0)\n",
    "print \"\\n\"\n",
    "print 'Logins - Change',test_stat(sample,'Logins - Change','Churn',False,0)\n",
    "print 'Blogs - Change',test_stat(sample,'Blogs - Change','Churn',False,0)\n",
    "print 'Views - Change',test_stat(sample,'Views - Change','Churn',False,0)"
   ]
  },
  {
   "cell_type": "markdown",
   "metadata": {},
   "source": [
    "<img src=\"data/CustomerActivity-Boxplot.png\">"
   ]
  },
  {
   "cell_type": "markdown",
   "metadata": {},
   "source": [
    "#### Customers who logged in most recently are less likely to churn\n",
    "\n",
    "The statistical test show that the average change in days since last login smaller in the group of non-churners compared to churners. This suggest again that potential churners can be detected by tracking their last login day."
   ]
  },
  {
   "cell_type": "code",
   "execution_count": 14,
   "metadata": {
    "collapsed": false
   },
   "outputs": [
    {
     "name": "stdout",
     "output_type": "stream",
     "text": [
      "Days since last logins - Change:\n",
      "\tNon-churners: 2.81432885891\n",
      "\tChurners: 7.92446967914\n",
      "Days Since Last Login - Change Ttest_indResult(statistic=4.709098470467401, pvalue=3.8654483484154882e-06)\n"
     ]
    }
   ],
   "source": [
    "print \"Days since last logins - Change:\"\n",
    "print \"\\tNon-churners:\",sample['Days Since Last Login - Change'][sample['Churn'] == 0].mean()\n",
    "print \"\\tChurners:\",sample['Days Since Last Login - Change'][sample['Churn'] == 1].mean()\n",
    "print 'Days Since Last Login - Change',test_stat(sample,'Days Since Last Login - Change','Churn',False,0)"
   ]
  },
  {
   "cell_type": "markdown",
   "metadata": {},
   "source": [
    "<img src='data/DaysSinceLastLogin-Boxplot.png'>"
   ]
  },
  {
   "cell_type": "markdown",
   "metadata": {},
   "source": [
    "#### Support Cases\n"
   ]
  },
  {
   "cell_type": "code",
   "execution_count": 15,
   "metadata": {
    "collapsed": false
   },
   "outputs": [
    {
     "name": "stdout",
     "output_type": "stream",
     "text": [
      "Support Cases - Change : Power_divergenceResult(statistic=0.95664428770176069, pvalue=0.32803379769081453)\n",
      "Support Cases - Current Month : Power_divergenceResult(statistic=1.0188541761196217, pvalue=0.31279095604288654)\n"
     ]
    }
   ],
   "source": [
    "for col in ['Support Cases - Change','Support Cases - Current Month']:\n",
    "    print col,\":\", test_stat(sample,col,'Churn',True,0)\n"
   ]
  },
  {
   "cell_type": "markdown",
   "metadata": {},
   "source": [
    "With p-values greates than 0.05, our tests fail to show that there is enough statistical evidence that can imply that the average of support cases is  different in groups of churners and non-churners"
   ]
  },
  {
   "cell_type": "markdown",
   "metadata": {},
   "source": [
    "#### Support Priority\n",
    "\n",
    "As in support cases, there is not enough statistical evidence that there is difference in average of support priority in groups of churners versus non-churners"
   ]
  },
  {
   "cell_type": "code",
   "execution_count": 16,
   "metadata": {
    "collapsed": false
   },
   "outputs": [
    {
     "name": "stdout",
     "output_type": "stream",
     "text": [
      "Support Priority - Change : Power_divergenceResult(statistic=0.92063599332648138, pvalue=0.33730803658816599)\n",
      "Support Priority - Current Month : Power_divergenceResult(statistic=1.026811915361854, pvalue=0.31090863503659427)\n"
     ]
    }
   ],
   "source": [
    "for col in ['Support Priority - Change','Support Priority - Current Month']:\n",
    "    print col,\":\", test_stat(sample,col,'Churn',True,0)\n"
   ]
  },
  {
   "cell_type": "markdown",
   "metadata": {},
   "source": [
    "### Princple Component Analysis\n",
    "\n",
    "\n",
    "If X is the dataset, we use PCA to learn coeffients (also known as loadings) **$L$** and a set of components **$C$** such that **$X = L \\cdotp C$**. We will use PCA package available in scikit learn. We start by fitting the entire dataset to extract the number of useful components. Then the data is fitted again using the extracted number of important features.\n"
   ]
  },
  {
   "cell_type": "code",
   "execution_count": 17,
   "metadata": {
    "collapsed": false
   },
   "outputs": [
    {
     "name": "stdout",
     "output_type": "stream",
     "text": [
      "number of useful components: 10\n"
     ]
    },
    {
     "data": {
      "image/png": "[encoded data removed]",
      "text/plain": [
       "<matplotlib.figure.Figure at 0x109c3ed50>"
      ]
     },
     "metadata": {},
     "output_type": "display_data"
    },
    {
     "data": {
      "image/png": "[encoded data removed]",
      "text/plain": [
       "<matplotlib.figure.Figure at 0x10b437750>"
      ]
     },
     "metadata": {},
     "output_type": "display_data"
    }
   ],
   "source": [
    "pca = PCA()\n",
    "pca.fit(standardize(sample[labels1]),sample[target])\n",
    "explained_var = pca.explained_variance_\n",
    "n_comp = len(filter(lambda x:x>0.6, explained_var))\n",
    "print \"number of useful components:\",n_comp\n",
    "\n",
    "pca = PCA(n_components=n_comp)\n",
    "pca.fit(standardize(sample[labels1]),sample[target])\n",
    "\n",
    "loadings = pca.components_\n",
    "scores = pca.transform(standardize(sample[labels1]))\n",
    "\n",
    "vects = biplot(scores,loadings,1,2,labels=labels1)\n",
    "vects = sorted(vects,key=lambda x:x[1])\n",
    "plt.show()\n",
    "\n",
    "labels_pca = map(lambda x:x[0],vects)"
   ]
  },
  {
   "cell_type": "markdown",
   "metadata": {},
   "source": [
    "# Modeling\n"
   ]
  },
  {
   "cell_type": "markdown",
   "metadata": {},
   "source": [
    "After observing so many variables whose averages are significantly different in the two groups of churners and non-churners, logistic regression would serve as a good candidate for model training.\n",
    "\n",
    "We are going to train the basic model logistic regression with a regularization term C=1 and where our **numerical variables** (opposite to categorical variables) will be used as input and the churn variable will be used as the target. We will use 5 fold cross-validation to reduce possible overfitting. "
   ]
  },
  {
   "cell_type": "code",
   "execution_count": 18,
   "metadata": {
    "collapsed": false
   },
   "outputs": [
    {
     "name": "stdout",
     "output_type": "stream",
     "text": [
      "BasicLogisticRegression\n",
      "-------------------------------\n",
      "Accuracy: 0.8181\n",
      "AUC Score (Train): 0.713962\n",
      "CV Score: Mean = 0.6432 | Std = 0.1121 | Min = 0.4377 | Max = 0.7663\n"
     ]
    }
   ],
   "source": [
    "lr1 = modelfit(LogisticRegression(C=1.),sample[labels_pca],sample[target],printFeatureImportance=False,title='BasicLogisticRegression')"
   ]
  },
  {
   "cell_type": "markdown",
   "metadata": {},
   "source": [
    "The initial model has a mean AUC of 0.6375 and standard deviation of 0.0942. We are now going to proceed with a grid search to optimize the regularization term. The best C would return higher mean  AUC score."
   ]
  },
  {
   "cell_type": "code",
   "execution_count": 19,
   "metadata": {
    "collapsed": false
   },
   "outputs": [
    {
     "name": "stdout",
     "output_type": "stream",
     "text": [
      "C:0.0001\n",
      "-------------------------------\n",
      "Accuracy: 0.8181\n",
      "AUC Score (Train): 0.714051\n",
      "CV Score: Mean = 0.6435 | Std = 0.1118 | Min = 0.4385 | Max = 0.7663\n",
      "C:0.001\n",
      "-------------------------------\n",
      "Accuracy: 0.8181\n",
      "AUC Score (Train): 0.714034\n",
      "CV Score: Mean = 0.6432 | Std = 0.1122 | Min = 0.4376 | Max = 0.7663\n",
      "C:0.01\n",
      "-------------------------------\n",
      "Accuracy: 0.8181\n",
      "AUC Score (Train): 0.714060\n",
      "CV Score: Mean = 0.6435 | Std = 0.1118 | Min = 0.4385 | Max = 0.7663\n",
      "C:0.1\n",
      "-------------------------------\n",
      "Accuracy: 0.8181\n",
      "AUC Score (Train): 0.714064\n",
      "CV Score: Mean = 0.6435 | Std = 0.1118 | Min = 0.4385 | Max = 0.7663\n",
      "C:1.0\n",
      "-------------------------------\n",
      "Accuracy: 0.8181\n",
      "AUC Score (Train): 0.714034\n",
      "CV Score: Mean = 0.6434 | Std = 0.1118 | Min = 0.4385 | Max = 0.7663\n",
      "C:10.0\n",
      "-------------------------------\n",
      "Accuracy: 0.8181\n",
      "AUC Score (Train): 0.714038\n",
      "CV Score: Mean = 0.6434 | Std = 0.1118 | Min = 0.4385 | Max = 0.7663\n",
      "C:100.0\n",
      "-------------------------------\n",
      "Accuracy: 0.8181\n",
      "AUC Score (Train): 0.714009\n",
      "CV Score: Mean = 0.6434 | Std = 0.1118 | Min = 0.4385 | Max = 0.7663\n",
      "C:1000.0\n",
      "-------------------------------\n",
      "Accuracy: 0.8181\n",
      "AUC Score (Train): 0.714047\n",
      "CV Score: Mean = 0.6434 | Std = 0.1118 | Min = 0.4385 | Max = 0.7663\n"
     ]
    }
   ],
   "source": [
    "Cs = 10**np.arange(-4.,4)\n",
    "for c in Cs:\n",
    "    modelfit(LogisticRegression(C=1.),sample[labels_pca],sample[target],printFeatureImportance=False,title='C:'+str(c))\n",
    "#c=100\n",
    "#lr1 = modelfit(LogisticRegression(C=c),Xvalid[labels1],Yvalid['Churn'],printFeatureImportance=False,title=str(c))\n",
    "#res = evaluateModel(lr1['model'],sample[Xtrain.columns],sample.Churn,sample[Xtrain.columns],sample.Churn,title='Best LR',retrain=False)"
   ]
  },
  {
   "cell_type": "markdown",
   "metadata": {},
   "source": [
    "**For final model, we choose the regularization factor C = 1**"
   ]
  },
  {
   "cell_type": "code",
   "execution_count": 20,
   "metadata": {
    "collapsed": false
   },
   "outputs": [
    {
     "name": "stdout",
     "output_type": "stream",
     "text": [
      "C:1\n",
      "-------------------------------\n",
      "Accuracy: 0.8181\n",
      "AUC Score (Train): 0.714047\n",
      "CV Score: Mean = 0.6432 | Std = 0.1122 | Min = 0.4376 | Max = 0.7663\n"
     ]
    }
   ],
   "source": [
    "c = 1\n",
    "lrf = modelfit(LogisticRegression(C=c),sample[labels_pca],sample[target],printFeatureImportance=False,title='C:'+str(c))"
   ]
  },
  {
   "cell_type": "markdown",
   "metadata": {},
   "source": [
    "## 3. Model Validation"
   ]
  },
  {
   "cell_type": "code",
   "execution_count": 21,
   "metadata": {
    "collapsed": false
   },
   "outputs": [
    {
     "name": "stdout",
     "output_type": "stream",
     "text": [
      "Validation of the model on the validation dataset\n",
      "auc score:\n",
      "\t0.585069674851\n",
      "confusion matrix:\n",
      "       0    1\n",
      "--  ----  ---\n",
      " 0  1462   45\n",
      " 1    64   16\n"
     ]
    }
   ],
   "source": [
    "model = lrf['model']\n",
    "preds = model.predict(_Xvalid[labels_pca])\n",
    "print \"Validation of the model on the validation dataset\"\n",
    "print \"auc score:\\n\\t\", roc_auc_score(_Yvalid,preds)\n",
    "print \"confusion matrix:\\n\", tabulate(pd.DataFrame(confusion_matrix(_Yvalid,preds)),headers=[0,1])\n",
    "\n"
   ]
  },
  {
   "cell_type": "code",
   "execution_count": 22,
   "metadata": {
    "collapsed": false
   },
   "outputs": [],
   "source": [
    "#save model on disk\n",
    "with open(\"model.pkl\",\"wb\") as mdl:\n",
    "    pickle.dump(model,mdl)\n",
    "    mdl.close()"
   ]
  },
  {
   "cell_type": "markdown",
   "metadata": {},
   "source": [
    "# Recommendations\n",
    "\n",
    "### How can the company allocate funds to retain potential churners?\n",
    "\n",
    "Assume the expense to adopt one customer x1 and teh the monthly revenue collected from each member r1 are known. Here, we are trying to estimate the money to invest in promotion to keep a predicted churner, x2.\n",
    "\n",
    "\n",
    "Since we also know that the average longetivity is 12.6 months.\n",
    "\n",
    "We can now optimize potential losses due to false predictions.\n",
    "\n",
    "Loss due to false negative consists in the difference between the money collected from the customer and adoption expense\n",
    "\n",
    "$FN_{Loss}= 12.6*r_1 - x_1$\n",
    "\n",
    "Loss due to false positive consists in the money invested in promotion per potential churner\n",
    "\n",
    "$FP_{Loss} = x_2$\n",
    "\n",
    "In order to decide which value to allocate on each potential churner, the company need to take into account the two potential losses above balanced with total loss of churners in case the model was absent.\n",
    "\n",
    "$64*(12.6*r_1 - x_1)+45*x_2 = 80*(12.6*r_1 - x_1)$\n",
    "\n",
    "And finally \n",
    "\n",
    "$x_2 < (16/45)*(12.6*r_1 - x_1)$"
   ]
  },
  {
   "cell_type": "code",
   "execution_count": 6,
   "metadata": {
    "collapsed": false
   },
   "outputs": [
    {
     "name": "stdout",
     "output_type": "stream",
     "text": [
      "for x1=100 and r1=20, the retaintion incentive can be estimated to  54.0\n"
     ]
    }
   ],
   "source": [
    "def x2(x1,r1):\n",
    "    return (12.6*r1 - x1)*16/float(45)\n",
    "\n",
    "print \"for x1=100 and r1=20, the retaintion incentive can be estimated to \",round(x2(100,20))"
   ]
  },
  {
   "cell_type": "markdown",
   "metadata": {},
   "source": [
    "### Characteristics of churners:\n",
    "Based on our exploratory and statistical analysis we suggest the company prepare money for incentives to retain potential churners. As potential churners of interest, they should:\n",
    "1. watch closely customers who are in the proximity of 12, 18 and 24 months longevity\n",
    "2. watch closely customers with a negative change in activity especially those who decreased their login frequency\n",
    "3. reach out to those customers who haven't logged in for a while (>15 days).\n",
    "\n",
    "### Model Improvement:\n",
    "\n",
    "To improve the model, more data should be provided. Churning problem is a case of unbalanced dataset where resampling is used to boost the positive rate. For a better accuracy, it is advised to have larger datasets"
   ]
  },
  {
   "cell_type": "markdown",
   "metadata": {},
   "source": [
    "# Appendix"
   ]
  },
  {
   "cell_type": "markdown",
   "metadata": {},
   "source": [
    "#### Function to make predictions\n",
    "\n",
    "This function provides the user a fast way to make predictions over a dataset\n",
    "\n",
    "**Example**"
   ]
  },
  {
   "cell_type": "raw",
   "metadata": {},
   "source": [
    "data = pd.read_csv('path/to/data.csv')\n",
    "predictions = make_predictions(data)"
   ]
  },
  {
   "cell_type": "code",
   "execution_count": 23,
   "metadata": {
    "collapsed": true
   },
   "outputs": [],
   "source": [
    "def make_predictions(df):\n",
    "    \"\"\"\n",
    "    This function provides the user a fast way to make predictions over a dataset\n",
    "    \"\"\"\n",
    "    t_labels = get_labels(\"labels_pca\")\n",
    "    # clean data\n",
    "    df = clean_data(df)\n",
    "    # engineer data\n",
    "    df = engineer_features(df)\n",
    "    # predict\n",
    "    with open(\"model.pkl\",\"r\") as mdl:\n",
    "        model = pickle.load(mdl)\n",
    "        mdl.close()\n",
    "    predictions = model.predict(df[t_labels])\n",
    "    return predictions"
   ]
  },
  {
   "cell_type": "markdown",
   "metadata": {},
   "source": [
    "\n"
   ]
  },
  {
   "cell_type": "code",
   "execution_count": null,
   "metadata": {
    "collapsed": true
   },
   "outputs": [],
   "source": []
  }
 ],
 "metadata": {
  "kernelspec": {
   "display_name": "Python 2",
   "language": "python",
   "name": "python2"
  },
  "language_info": {
   "codemirror_mode": {
    "name": "ipython",
    "version": 2
   },
   "file_extension": ".py",
   "mimetype": "text/x-python",
   "name": "python",
   "nbconvert_exporter": "python",
   "pygments_lexer": "ipython2",
   "version": "2.7.10"
  }
 },
 "nbformat": 4,
 "nbformat_minor": 0
}
